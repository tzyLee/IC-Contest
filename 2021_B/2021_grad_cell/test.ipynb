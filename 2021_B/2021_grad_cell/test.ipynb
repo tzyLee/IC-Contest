{
 "cells": [
  {
   "cell_type": "code",
   "execution_count": 48,
   "metadata": {},
   "outputs": [
    {
     "name": "stdout",
     "output_type": "stream",
     "text": [
      "0 0 [0, 652, 0, 879, 195, 607] False [0, 0]\n",
      "0 1 [0, 0, 652, 879, 195, 607] True [-189080, 0]\n",
      "0 2 [0, 0, 879, 652, 195, 607] True [-39120, 149430]\n",
      "0 3 [0, 0, 879, 652, 195, 607] False [143440, 33150]\n",
      "0 4 [0, 0, 879, 652, 607, 195] True [-56550, 133540]\n",
      "1 0 [0, 0, 879, 652, 607, 195] False [0, 0]\n",
      "1 1 [0, 0, 879, 652, 607, 195] False [0, -254910]\n",
      "1 2 [0, 0, 879, 652, 607, 195] False [149430, -39120]\n",
      "1 3 [0, 0, 879, 607, 652, 195] True [-189080, 103190]\n",
      "2 0 [0, 0, 879, 607, 652, 195] False [0, 0]\n",
      "2 1 [0, 0, 879, 607, 652, 195] False [0, -254910]\n",
      "2 2 [0, 0, 607, 879, 652, 195] True [-254910, -36420]\n",
      "3 0 [0, 0, 607, 879, 652, 195] False [0, 0]\n",
      "3 1 [0, 0, 607, 879, 652, 195] False [0, -176030]\n",
      "4 0 [0, 0, 607, 879, 652, 195] False [0, 0]\n",
      "[0, 0, 607, 879, 652, 195] [0, -290, -290, -60, 170, 220]\n",
      "[103, 103, 710, 982, 755, 298] [340, 50, 50, 280, 510, 560]\n"
     ]
    }
   ],
   "source": [
    "x = [103, 755, 103, 982, 298, 710]\n",
    "y = [340, 510, 50, 280, 560, 50]\n",
    "r = [118, 567, 294, 763, 252, 559]\n",
    "dx = [xx-x[0] for xx in x]\n",
    "dy = [yy-y[0] for yy in y]\n",
    "\n",
    "\n",
    "N = len(dx)\n",
    "for i in range(N):\n",
    "    for j in range(N-i-1):\n",
    "        swap = dx[j]*dy[j+1] < dx[j+1]*dy[j]\n",
    "        a, b= dx[j]*dy[j+1], dx[j+1]*dy[j]\n",
    "        if dx[j]*dy[j+1] < dx[j+1]*dy[j]:\n",
    "            dx[j], dx[j+1] = dx[j+1], dx[j]\n",
    "            dy[j], dy[j+1] = dy[j+1], dy[j]\n",
    "            x[j], x[j+1] = x[j+1], x[j]\n",
    "            y[j], y[j+1] = y[j+1], y[j]\n",
    "            r[j], r[j+1] = r[j+1], r[j]\n",
    "        print(i, j, dx, swap, [a,b])\n",
    "\n",
    "print(dx, dy)\n",
    "print(x, y)"
   ]
  },
  {
   "cell_type": "code",
   "execution_count": 49,
   "metadata": {},
   "outputs": [
    {
     "name": "stdout",
     "output_type": "stream",
     "text": [
      "0\n",
      "0\n",
      "176030\n",
      "218490\n",
      "188550\n",
      "110290\n",
      "346680.0 693360\n"
     ]
    }
   ],
   "source": [
    "area = la = lb = 0\n",
    "for a, b in zip(dx, dy):\n",
    "    pa = abs(la*b - lb*a)\n",
    "    print((la*b - lb*a))\n",
    "    area += pa\n",
    "    la, lb = a, b\n",
    "print(area/2, area)"
   ]
  },
  {
   "cell_type": "code",
   "execution_count": 55,
   "metadata": {},
   "outputs": [
    {
     "name": "stdout",
     "output_type": "stream",
     "text": [
      "118 294 290.0 [351, 233, 57, 61]\n",
      "285.9772718241784 58.966091951222275\n",
      "16862.96210634419\n",
      "....................\n",
      "294 559 607.0 [730, 436, 171, 123]\n",
      "564.1630969852602 145.02758358326184\n",
      "81819.21070262167\n",
      "....................\n",
      "559 763 356.20780451865454 [839, 280, 76, 482]\n",
      "484.8054016034337 191.7036187031082\n",
      "92938.94985419189\n",
      "....................\n",
      "763 567 323.154761685481 [826, 63, 259, 503]\n",
      "229.24141191729265 361.4929113244599\n",
      "82869.14539011185\n",
      "....................\n",
      "567 252 459.7270929584203 [639, 72, 387, 179]\n",
      "215.09675430550084 263.7889567680212\n",
      "56740.148422435435\n",
      "....................\n"
     ]
    }
   ],
   "source": [
    "import math\n",
    "for i in range(1, len(x)):\n",
    "    a = r[i-1]\n",
    "    b = r[i]\n",
    "    c = math.hypot(x[i]-x[i-1], y[i]-y[i-1])\n",
    "    s = (a+b+c)/2\n",
    "    aa = math.sqrt(s*(s-a))\n",
    "    bb = math.sqrt((s-c)*(s-b))\n",
    "    print(a, b, c, [int(i) for i in [s, s-a, s-b, s-c]])\n",
    "    print(aa, bb)\n",
    "    print(aa*bb)\n",
    "    print('.'*20)\n"
   ]
  },
  {
   "cell_type": "code",
   "execution_count": 85,
   "metadata": {},
   "outputs": [],
   "source": [
    "data = \"\"\"Object4(in):   X     Y     R\n",
    "          1:  298,  560,  430\n",
    "          2:  755,  510,  707\n",
    "          3:  103,   50,  116\n",
    "          4:  710,   50,  580\n",
    "          5:  982,  280,  850\n",
    "          6:  103,  340,  183\"\"\""
   ]
  },
  {
   "cell_type": "code",
   "execution_count": 71,
   "metadata": {},
   "outputs": [],
   "source": [
    "data = \"\"\"Object42(out):  X     Y     R\n",
    "          1:  321,  127,  936\n",
    "          2:  321,  870,  655\n",
    "          3:  970,  280,  519\n",
    "          4:  567, 1003,  454\n",
    "          5:  432,  123,  865\n",
    "          6: 1010,  643,  160\"\"\""
   ]
  },
  {
   "cell_type": "code",
   "execution_count": 86,
   "metadata": {},
   "outputs": [
    {
     "name": "stdout",
     "output_type": "stream",
     "text": [
      "[298, 103, 103, 710, 982, 755]\n",
      "[560, 340, 50, 50, 280, 510]\n",
      "707 430 459.7270929584203 [798, 91, 368, 338]\n",
      "269 352\n",
      "94688\n",
      "....................\n",
      "430 183 293.981291921782 [453, 23, 270, 159]\n",
      "102 207\n",
      "21114\n",
      "....................\n",
      "183 116 290.0 [294, 111, 178, 4]\n",
      "180 26\n",
      "4680\n",
      "....................\n",
      "116 580 607.0 [651, 535, 71, 44]\n",
      "590 55\n",
      "32450\n",
      "....................\n",
      "580 850 356.20780451865454 [893, 313, 43, 536]\n",
      "528 151\n",
      "79728\n",
      "....................\n",
      "850 707 323.154761685481 [940, 90, 233, 616]\n",
      "290 378\n",
      "109620\n",
      "....................\n",
      "area_half and area: 346680.0 693360\n",
      "[298, 103, 103, 710, 982, 755] [560, 340, 50, 50, 280, 510] [430, 183, 116, 580, 850, 707]\n",
      "342280\n"
     ]
    }
   ],
   "source": [
    "lines = [line.strip() for line in data.split('\\n')]\n",
    "\n",
    "x = []\n",
    "y = []\n",
    "r = []\n",
    "for line in lines[1:]:\n",
    "    xi, yi, ri = [int(i.replace(',', '')) for i in line.split(' ')[1:] if i]\n",
    "    x.append(xi)\n",
    "    y.append(yi)\n",
    "    r.append(ri)\n",
    "\n",
    "dx = [xx-x[0] for xx in x]\n",
    "dy = [yy-y[0] for yy in y]\n",
    "\n",
    "\n",
    "N = len(dx)\n",
    "for i in range(N):\n",
    "    for j in range(N-i-1):\n",
    "        swap = dx[j]*dy[j+1] < dx[j+1]*dy[j]\n",
    "        a, b= dx[j]*dy[j+1], dx[j+1]*dy[j]\n",
    "        if dx[j]*dy[j+1] < dx[j+1]*dy[j]:\n",
    "            dx[j], dx[j+1] = dx[j+1], dx[j]\n",
    "            dy[j], dy[j+1] = dy[j+1], dy[j]\n",
    "            x[j], x[j+1] = x[j+1], x[j]\n",
    "            y[j], y[j+1] = y[j+1], y[j]\n",
    "            r[j], r[j+1] = r[j+1], r[j]\n",
    "print(x)\n",
    "print(y)\n",
    "area = la = lb = 0\n",
    "for a, b in zip(dx, dy):\n",
    "    pa = abs(la*b - lb*a)\n",
    "    area += pa\n",
    "    la, lb = a, b\n",
    "\n",
    "import math\n",
    "area_point = 0\n",
    "for i in range(len(x)):\n",
    "    a = r[i-1] if i > 0 else r[-1]\n",
    "    b = r[i]\n",
    "    c = math.hypot(x[i]-x[i-1], y[i]-y[i-1])\n",
    "    s = (a+b+c)/2\n",
    "    aa = int(math.sqrt(int(s)*int(s-a)))\n",
    "    bb = int(math.sqrt(int(s-c)*int(s-b)))\n",
    "    print(a, b, c, [int(i) for i in [s, s-a, s-b, s-c]])\n",
    "    print(aa, bb)\n",
    "    print(aa*bb)\n",
    "    area_point += aa*bb\n",
    "    print('.'*20)\n",
    "print('area_half and area:', area/2, area)\n",
    "print(x, y, r)\n",
    "print(area_point)"
   ]
  },
  {
   "cell_type": "code",
   "execution_count": null,
   "metadata": {},
   "outputs": [],
   "source": []
  }
 ],
 "metadata": {
  "kernelspec": {
   "display_name": "miniconda3-latest",
   "language": "python",
   "name": "python3"
  },
  "language_info": {
   "codemirror_mode": {
    "name": "ipython",
    "version": 3
   },
   "file_extension": ".py",
   "mimetype": "text/x-python",
   "name": "python",
   "nbconvert_exporter": "python",
   "pygments_lexer": "ipython3",
   "version": "3.8.5"
  },
  "orig_nbformat": 4
 },
 "nbformat": 4,
 "nbformat_minor": 2
}
