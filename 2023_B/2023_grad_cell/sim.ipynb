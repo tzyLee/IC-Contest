{
 "cells": [
  {
   "cell_type": "code",
   "execution_count": 12,
   "metadata": {},
   "outputs": [
    {
     "name": "stdout",
     "output_type": "stream",
     "text": [
      "optimum=30\n",
      "\n"
     ]
    }
   ],
   "source": [
    "xs = []\n",
    "ys = []\n",
    "\n",
    "with open('img6.pattern', 'r') as f:\n",
    "    for i, line in enumerate(f):\n",
    "        if i == 0:\n",
    "            print(line)\n",
    "            continue\n",
    "        x, y = [int(i) for i in line.strip().split()]\n",
    "        xs.append(x)\n",
    "        ys.append(y)"
   ]
  },
  {
   "cell_type": "code",
   "execution_count": 13,
   "metadata": {},
   "outputs": [],
   "source": [
    "def get_cover(cx, cy, xs, ys, mask):\n",
    "    return [(cx - x)**2 + (cy - y)**2 <= 16 and not exclude for x, y, exclude in zip(xs, ys, mask)]\n",
    "\n",
    "def evaluate(a, b, xs, ys):\n",
    "    m1 = get_cover(*a, xs, ys, [0]*40)\n",
    "    m2 = get_cover(*b, xs, ys, m1)\n",
    "    return sum(m1) + sum(m2)"
   ]
  },
  {
   "cell_type": "code",
   "execution_count": 14,
   "metadata": {},
   "outputs": [
    {
     "name": "stdout",
     "output_type": "stream",
     "text": [
      "(9, 6) 22\n",
      "(13, 3) 7 [(9, 6), (13, 3)] 29\n",
      "(9, 9) 18 [(9, 9), (13, 3)] 29\n",
      "(13, 2) 12 [(9, 9), (13, 2)] 30\n",
      "break second\n"
     ]
    }
   ],
   "source": [
    "maxcount = 0\n",
    "argmax = None\n",
    "for cy in range(2, 14):\n",
    "    for cx in range(2, 14):\n",
    "        mask = get_cover(cx, cy, xs, ys, [0]*40)\n",
    "        if sum(mask) > maxcount:\n",
    "            maxcount = sum(mask)\n",
    "            maxmask = mask\n",
    "            argmax = cx, cy\n",
    "print(argmax, maxcount)\n",
    "\n",
    "ca = argmax\n",
    "cb = None\n",
    "it = 0\n",
    "while True:\n",
    "    prevmask = maxmask\n",
    "    maxmask = None\n",
    "    maxcount = 0\n",
    "    argmax = None\n",
    "    for cy in range(2, 14):\n",
    "        for cx in range(2, 14):\n",
    "            mask = get_cover(cx, cy, xs, ys, prevmask)\n",
    "            if sum(mask) >= maxcount:\n",
    "                maxcount = sum(mask)\n",
    "                maxmask = get_cover(cx, cy, xs, ys, [0]*40)\n",
    "                argmax = cx, cy\n",
    "    if (ca, argmax) == (ca, cb):\n",
    "        print('break first')\n",
    "        break\n",
    "    cb = argmax\n",
    "    print(argmax, maxcount, [ca, cb], evaluate(ca, cb, xs, ys))\n",
    "\n",
    "    prevmask = maxmask\n",
    "    maxmask = None\n",
    "    maxcount = 0\n",
    "    argmax = None\n",
    "    for cy in range(2, 14):\n",
    "        for cx in range(2, 14):\n",
    "            mask = get_cover(cx, cy, xs, ys, prevmask)\n",
    "            if sum(mask) >= maxcount:\n",
    "                maxcount = sum(mask)\n",
    "                maxmask = get_cover(cx, cy, xs, ys, [0]*40)\n",
    "                argmax = cx, cy\n",
    "    # print(argmax, ca, cb, sum(get_cover(*argmax, xs, ys, prevmask)))\n",
    "    if (argmax, cb) == (ca, cb):\n",
    "        print('break second')\n",
    "        break\n",
    "    ca = argmax\n",
    "    print(argmax, maxcount, [ca, cb], evaluate(ca, cb, xs, ys))\n",
    "    it += 1\n",
    "    if it > 10:\n",
    "        break"
   ]
  },
  {
   "cell_type": "code",
   "execution_count": 145,
   "metadata": {},
   "outputs": [
    {
     "data": {
      "text/plain": [
       "array([0, 0, 0, 0, 0, 0, 0, 0, 0, 0, 0, 0, 1, 0, 0, 1, 1, 1, 1, 1, 1, 0,\n",
       "       1, 1, 1, 0, 1, 1, 1, 1, 1, 1, 1, 1, 1, 0, 1, 0, 0, 0])"
      ]
     },
     "execution_count": 145,
     "metadata": {},
     "output_type": "execute_result"
    }
   ],
   "source": [
    "m2 = get_cover(10, 8, xs, ys, [0]*40)\n",
    "np.array(m2).astype(np.int32)"
   ]
  },
  {
   "cell_type": "code",
   "execution_count": 149,
   "metadata": {},
   "outputs": [
    {
     "name": "stdout",
     "output_type": "stream",
     "text": [
      "22 2\n"
     ]
    }
   ],
   "source": [
    "m1 = get_cover(9, 6, xs, ys, [0]*40)\n",
    "m2 = get_cover(10, 8, xs, ys, m1)\n",
    "\n",
    "print(sum(m1), sum(m2))"
   ]
  },
  {
   "cell_type": "code",
   "execution_count": 148,
   "metadata": {},
   "outputs": [
    {
     "data": {
      "text/plain": [
       "array([0, 0, 0, 0, 0, 0, 0, 0, 0, 0, 0, 0, 0, 0, 0, 0, 0, 0, 0, 0, 0, 0,\n",
       "       0, 0, 0, 0, 0, 0, 0, 0, 0, 0, 0, 1, 0, 0, 1, 0, 0, 0])"
      ]
     },
     "execution_count": 148,
     "metadata": {},
     "output_type": "execute_result"
    }
   ],
   "source": [
    "np.array(m2).astype(np.int32)"
   ]
  },
  {
   "cell_type": "code",
   "execution_count": 150,
   "metadata": {},
   "outputs": [
    {
     "data": {
      "text/plain": [
       "array([0, 0, 0, 0, 0, 1, 0, 0, 1, 0, 0, 1, 1, 1, 0, 1, 1, 1, 1, 1, 1, 0,\n",
       "       1, 1, 1, 0, 1, 1, 1, 1, 1, 1, 1, 0, 1, 0, 0, 0, 0, 0])"
      ]
     },
     "execution_count": 150,
     "metadata": {},
     "output_type": "execute_result"
    }
   ],
   "source": [
    "np.array(m1).astype(np.int32)"
   ]
  },
  {
   "cell_type": "code",
   "execution_count": 41,
   "metadata": {},
   "outputs": [
    {
     "data": {
      "text/plain": [
       "(True, 7, 11)"
      ]
     },
     "execution_count": 41,
     "metadata": {},
     "output_type": "execute_result"
    }
   ],
   "source": [
    "m1[23], xs[23], ys[23]"
   ]
  },
  {
   "cell_type": "code",
   "execution_count": 119,
   "metadata": {},
   "outputs": [],
   "source": [
    "xs = []\n",
    "ys = []\n",
    "for x in range(16):\n",
    "    for y in range(16):\n",
    "        xs.append(x)\n",
    "        ys.append(y)\n"
   ]
  },
  {
   "cell_type": "code",
   "execution_count": 123,
   "metadata": {},
   "outputs": [],
   "source": [
    "covers = {}\n",
    "for x in range(8):\n",
    "    for y in range(8):\n",
    "        covers[x, y] = np.array(get_cover(x, y, xs, ys, [0]*len(xs)))"
   ]
  },
  {
   "cell_type": "code",
   "execution_count": 130,
   "metadata": {},
   "outputs": [],
   "source": [
    "def find(x, y):\n",
    "    cur = covers[x, y]\n",
    "    for px in range(x):\n",
    "        for py in range(y):\n",
    "            pcur = covers[px, py]\n",
    "            if not ((cur & pcur) == pcur).all():\n",
    "                with np.printoptions(linewidth=10000, formatter={'bool': lambda x : str(int(x))}):\n",
    "                    print(cur)\n",
    "                    print(pcur)\n",
    "                    print((cur & pcur))\n",
    "                return False\n",
    "    return True\n",
    "\n",
    "\n",
    "# for x in range(8):\n",
    "#     for y in range(8):\n",
    "#         if find(x, y):\n",
    "#             print(x, y)"
   ]
  },
  {
   "cell_type": "code",
   "execution_count": 132,
   "metadata": {},
   "outputs": [
    {
     "data": {
      "text/plain": [
       "True"
      ]
     },
     "execution_count": 132,
     "metadata": {},
     "output_type": "execute_result"
    }
   ],
   "source": [
    "find(2, 2)"
   ]
  },
  {
   "cell_type": "code",
   "execution_count": 138,
   "metadata": {},
   "outputs": [
    {
     "data": {
      "text/plain": [
       "17"
      ]
     },
     "execution_count": 138,
     "metadata": {},
     "output_type": "execute_result"
    }
   ],
   "source": [
    "sum(covers[0, 0])"
   ]
  },
  {
   "cell_type": "code",
   "execution_count": null,
   "metadata": {},
   "outputs": [],
   "source": []
  }
 ],
 "metadata": {
  "kernelspec": {
   "display_name": "Python 3",
   "language": "python",
   "name": "python3"
  },
  "language_info": {
   "codemirror_mode": {
    "name": "ipython",
    "version": 3
   },
   "file_extension": ".py",
   "mimetype": "text/x-python",
   "name": "python",
   "nbconvert_exporter": "python",
   "pygments_lexer": "ipython3",
   "version": "3.8.5"
  },
  "orig_nbformat": 4
 },
 "nbformat": 4,
 "nbformat_minor": 2
}
